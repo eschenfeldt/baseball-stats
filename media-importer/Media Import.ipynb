{
 "cells": [
  {
   "cell_type": "code",
   "execution_count": null,
   "metadata": {},
   "outputs": [],
   "source": [
    "from datetime import date\n",
    "from tqdm import tqdm\n",
    "import shutil\n",
    "import os\n",
    "\n",
    "from thumbnails import ThumbnailDef, Thumbnailer, ThumbnailParams\n",
    "from db_connect import DbConnector\n",
    "from photo_export import PhotoExporter\n",
    "from path_management import PathManager\n",
    "from bucket_connect import BucketConnector\n"
   ]
  },
  {
   "cell_type": "code",
   "execution_count": null,
   "metadata": {},
   "outputs": [],
   "source": [
    "from_date = date(2024, 7, 10)\n",
    "to_date = date(2024, 7, 10)\n",
    "# overwrite files in bucket\n",
    "overwrite = True"
   ]
  },
  {
   "cell_type": "code",
   "execution_count": null,
   "metadata": {},
   "outputs": [],
   "source": [
    "small = ThumbnailDef(120, 'small')\n",
    "medium = ThumbnailDef(400, 'medium')\n",
    "large = ThumbnailDef(1600, 'large')\n",
    "\n",
    "sizes = [small, large, medium] \n",
    "thumbnailer = Thumbnailer(sizes)"
   ]
  },
  {
   "cell_type": "code",
   "execution_count": null,
   "metadata": {},
   "outputs": [],
   "source": [
    "paths = PathManager(thumbnailer.name_modifiers)\n",
    "test_connector = DbConnector('./test.postgres_config', paths)\n",
    "prod_connector = DbConnector('./prod.postgres_config', paths)\n",
    "exporter = PhotoExporter(paths, hours_before=3, hours_after=2)\n",
    "\n",
    "games = prod_connector.get_games(from_date, to_date)"
   ]
  },
  {
   "cell_type": "code",
   "execution_count": null,
   "metadata": {},
   "outputs": [],
   "source": [
    "for game in tqdm(games):\n",
    "    exporter.export_photos_for_game(game)"
   ]
  },
  {
   "cell_type": "markdown",
   "metadata": {},
   "source": [
    "At this point, review the photos in the \"preview\" directories and remove any that shouldn't be uploaded. Removing it from the preview directory is sufficient."
   ]
  },
  {
   "cell_type": "code",
   "execution_count": null,
   "metadata": {},
   "outputs": [],
   "source": [
    "to_thumbnail: list[ThumbnailParams] = []\n",
    "for game in games:\n",
    "    to_thumbnail.extend(exporter.get_photos_to_thumbnail(game))"
   ]
  },
  {
   "cell_type": "code",
   "execution_count": null,
   "metadata": {},
   "outputs": [],
   "source": [
    "thumbnailer.thumbnail_many(to_thumbnail)"
   ]
  },
  {
   "cell_type": "code",
   "execution_count": null,
   "metadata": {},
   "outputs": [],
   "source": [
    "bucket = BucketConnector('./prod.bucket_config', paths)"
   ]
  },
  {
   "cell_type": "code",
   "execution_count": null,
   "metadata": {},
   "outputs": [],
   "source": [
    "for game in games:\n",
    "    to_upload = exporter.get_photos_to_upload(game)\n",
    "    print(f'Uploading/Validating {len(to_upload)} photos for {game.Name}')\n",
    "    upload_params = []\n",
    "    for photo in to_upload:\n",
    "        root_path = paths.temp_dir(game, photo)\n",
    "        upload_params.extend(bucket.get_upload_params(root_path, photo, override=overwrite))\n",
    "    bucket.upload_many_files(upload_params, pool_size=25)\n",
    "    prod_connector.import_resources(game, to_upload)"
   ]
  },
  {
   "cell_type": "code",
   "execution_count": null,
   "metadata": {},
   "outputs": [],
   "source": [
    "prod_connector.remove_duplicate_thumbnails() \n",
    "# does not remove files from the bucket"
   ]
  },
  {
   "cell_type": "code",
   "execution_count": null,
   "metadata": {},
   "outputs": [],
   "source": [
    "for game in games:\n",
    "    root_path = paths.base_dir(game)\n",
    "    if os.path.exists(root_path):\n",
    "        shutil.rmtree(root_path)"
   ]
  },
  {
   "cell_type": "code",
   "execution_count": null,
   "metadata": {},
   "outputs": [],
   "source": []
  }
 ],
 "metadata": {
  "kernelspec": {
   "display_name": ".venv",
   "language": "python",
   "name": "python3"
  },
  "language_info": {
   "codemirror_mode": {
    "name": "ipython",
    "version": 3
   },
   "file_extension": ".py",
   "mimetype": "text/x-python",
   "name": "python",
   "nbconvert_exporter": "python",
   "pygments_lexer": "ipython3",
   "version": "3.12.4"
  }
 },
 "nbformat": 4,
 "nbformat_minor": 2
}
