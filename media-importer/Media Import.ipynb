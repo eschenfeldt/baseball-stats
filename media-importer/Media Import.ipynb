{
 "cells": [
  {
   "cell_type": "code",
   "execution_count": 27,
   "metadata": {},
   "outputs": [],
   "source": [
    "from datetime import date\n",
    "from tqdm import tqdm\n",
    "import shutil\n",
    "import os\n",
    "\n",
    "from thumbnails import ThumbnailDef, Thumbnailer, ThumbnailParams\n",
    "from db_connect import DbConnector\n",
    "from photo_export import PhotoExporter\n",
    "from path_management import PathManager\n",
    "from bucket_connect import BucketConnector"
   ]
  },
  {
   "cell_type": "code",
   "execution_count": 17,
   "metadata": {},
   "outputs": [],
   "source": [
    "from_date = date(2011, 8, 1)\n",
    "to_date = date(2011, 8, 25)"
   ]
  },
  {
   "cell_type": "code",
   "execution_count": 18,
   "metadata": {},
   "outputs": [],
   "source": [
    "small = ThumbnailDef(120, 'small')\n",
    "medium = ThumbnailDef(400, 'medium')\n",
    "large = ThumbnailDef(1600, 'large')\n",
    "\n",
    "sizes = [small, large, medium] \n",
    "thumbnailer = Thumbnailer(sizes)"
   ]
  },
  {
   "cell_type": "code",
   "execution_count": 19,
   "metadata": {},
   "outputs": [],
   "source": [
    "paths = PathManager(thumbnailer.name_modifiers)\n",
    "test_connector = DbConnector('./test.postgres_config', paths)\n",
    "prod_connector = DbConnector('./prod.postgres_config', paths)\n",
    "exporter = PhotoExporter(paths)\n",
    "\n",
    "games = prod_connector.get_games(from_date, to_date)"
   ]
  },
  {
   "cell_type": "code",
   "execution_count": 21,
   "metadata": {},
   "outputs": [
    {
     "name": "stderr",
     "output_type": "stream",
     "text": [
      " 29%|██▊       | 2/7 [00:00<00:01,  3.57it/s]"
     ]
    },
    {
     "name": "stdout",
     "output_type": "stream",
     "text": [
      "skipping missing photo 74D652BA-22F9-4ECC-89EC-2CF32C060EAB.JPG\n",
      "skipping missing photo 94D8E58D-62E3-4565-8ADE-BF7AC13BED48.JPG\n",
      "skipping missing photo A81B0891-97BA-4ADA-B347-EA9E69FAC50E.JPG\n"
     ]
    },
    {
     "name": "stderr",
     "output_type": "stream",
     "text": [
      "100%|██████████| 7/7 [00:01<00:00,  5.26it/s]"
     ]
    },
    {
     "name": "stdout",
     "output_type": "stream",
     "text": [
      "skipping missing photo A843C736-6C6A-4793-ADD7-43F40AACA258.JPG\n",
      "skipping missing photo A390A4B8-E325-437F-8C7A-9DD39EC5E257.JPG\n"
     ]
    },
    {
     "name": "stderr",
     "output_type": "stream",
     "text": [
      "\n"
     ]
    }
   ],
   "source": [
    "for game in tqdm(games):\n",
    "    exporter.export_photos_for_game(game)"
   ]
  },
  {
   "cell_type": "markdown",
   "metadata": {},
   "source": [
    "At this point, review the photos in the \"preview\" directories and remove any that shouldn't be uploaded. Removing it from the preview directory is sufficient."
   ]
  },
  {
   "cell_type": "code",
   "execution_count": 22,
   "metadata": {},
   "outputs": [],
   "source": [
    "to_thumbnail: list[ThumbnailParams] = []\n",
    "for game in games:\n",
    "    to_thumbnail.extend(exporter.get_photos_to_thumbnail(game))"
   ]
  },
  {
   "cell_type": "code",
   "execution_count": 23,
   "metadata": {},
   "outputs": [],
   "source": [
    "thumbnailer.thumbnail_many(to_thumbnail)"
   ]
  },
  {
   "cell_type": "code",
   "execution_count": 24,
   "metadata": {},
   "outputs": [],
   "source": [
    "bucket = BucketConnector('./prod.bucket_config', paths)"
   ]
  },
  {
   "cell_type": "code",
   "execution_count": 25,
   "metadata": {},
   "outputs": [
    {
     "name": "stdout",
     "output_type": "stream",
     "text": [
      "Uploading/Validating 0 photos for 8/23/11 Atlanta Braves at Chicago Cubs\n",
      "Uploading/Validating 16 photos for 8/21/11 St. Louis Cardinals at Chicago Cubs\n",
      "Uploading/Validating 18 photos for 8/20/11 St. Louis Cardinals at Chicago Cubs\n",
      "Uploading/Validating 0 photos for 8/16/11 Los Angeles Dodgers at Milwaukee Brewers\n",
      "Uploading/Validating 0 photos for 8/11/11 Washington Nationals at Chicago Cubs\n",
      "Uploading/Validating 0 photos for 8/8/11 Washington Nationals at Chicago Cubs\n",
      "Uploading/Validating 0 photos for 8/7/11 Cincinnati Reds at Chicago Cubs\n"
     ]
    }
   ],
   "source": [
    "for game in games:\n",
    "    to_upload = exporter.get_photos_to_upload(game)\n",
    "    print(f'Uploading/Validating {len(to_upload)} photos for {game.Name}')\n",
    "    for photo in to_upload:\n",
    "        root_path = paths.temp_dir(game, photo)\n",
    "        bucket.upload_all_files(root_path, photo)\n",
    "    prod_connector.import_resources(game, to_upload)"
   ]
  },
  {
   "cell_type": "code",
   "execution_count": 28,
   "metadata": {},
   "outputs": [],
   "source": [
    "for game in games:\n",
    "    root_path = paths.base_dir(game)\n",
    "    if os.path.exists(root_path):\n",
    "        shutil.rmtree(root_path)"
   ]
  },
  {
   "cell_type": "code",
   "execution_count": null,
   "metadata": {},
   "outputs": [],
   "source": []
  }
 ],
 "metadata": {
  "kernelspec": {
   "display_name": ".venv",
   "language": "python",
   "name": "python3"
  },
  "language_info": {
   "codemirror_mode": {
    "name": "ipython",
    "version": 3
   },
   "file_extension": ".py",
   "mimetype": "text/x-python",
   "name": "python",
   "nbconvert_exporter": "python",
   "pygments_lexer": "ipython3",
   "version": "3.12.4"
  }
 },
 "nbformat": 4,
 "nbformat_minor": 2
}
