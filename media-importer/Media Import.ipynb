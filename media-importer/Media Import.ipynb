{
 "cells": [
  {
   "cell_type": "code",
   "execution_count": 12,
   "metadata": {},
   "outputs": [],
   "source": [
    "import importlib\n",
    "import thumbnails\n",
    "import db_connect\n",
    "import photo_export\n",
    "import path_management\n",
    "from datetime import date\n",
    "from tqdm import tqdm\n",
    "from osxphotos import PhotoInfo\n",
    "\n",
    "importlib.reload(thumbnails)\n",
    "importlib.reload(db_connect)\n",
    "importlib.reload(photo_export)\n",
    "importlib.reload(path_management)\n",
    "\n",
    "from thumbnails import ThumbnailDef, Thumbnailer\n",
    "from db_connect import DbConnector\n",
    "from photo_export import PhotoExporter\n",
    "from path_management import PathManager"
   ]
  },
  {
   "cell_type": "code",
   "execution_count": 13,
   "metadata": {},
   "outputs": [],
   "source": [
    "small = ThumbnailDef(120, 'small')\n",
    "medium = ThumbnailDef(400, 'medium')\n",
    "large = ThumbnailDef(1600, 'large')\n",
    "\n",
    "sizes = [small, large, medium] \n",
    "thumbnailer = Thumbnailer(sizes)"
   ]
  },
  {
   "cell_type": "code",
   "execution_count": 14,
   "metadata": {},
   "outputs": [],
   "source": [
    "from_date = date(2011, 8, 1)\n",
    "to_date = date(2011, 9, 1)\n",
    "paths = PathManager()\n",
    "test_connector = DbConnector('./test.postgres_config', paths, thumbnailer.name_modifiers)\n",
    "prod_connector = DbConnector('./prod.postgres_config', paths, thumbnailer.name_modifiers)\n",
    "exporter = PhotoExporter(paths)\n",
    "\n",
    "games = prod_connector.get_games(from_date, to_date)"
   ]
  },
  {
   "cell_type": "code",
   "execution_count": 16,
   "metadata": {},
   "outputs": [
    {
     "name": "stderr",
     "output_type": "stream",
     "text": [
      " 25%|██▌       | 2/8 [00:00<00:00, 13.75it/s]"
     ]
    },
    {
     "name": "stdout",
     "output_type": "stream",
     "text": [
      "skipping missing photo A843C736-6C6A-4793-ADD7-43F40AACA258.JPG\n",
      "skipping missing photo 74D652BA-22F9-4ECC-89EC-2CF32C060EAB.JPG\n",
      "skipping missing photo A81B0891-97BA-4ADA-B347-EA9E69FAC50E.JPG\n",
      "skipping missing photo A390A4B8-E325-437F-8C7A-9DD39EC5E257.JPG\n"
     ]
    },
    {
     "name": "stderr",
     "output_type": "stream",
     "text": [
      "100%|██████████| 8/8 [00:01<00:00,  5.37it/s]"
     ]
    },
    {
     "name": "stdout",
     "output_type": "stream",
     "text": [
      "skipping missing photo 94D8E58D-62E3-4565-8ADE-BF7AC13BED48.JPG\n"
     ]
    },
    {
     "name": "stderr",
     "output_type": "stream",
     "text": [
      "\n"
     ]
    }
   ],
   "source": [
    "for game in tqdm(games):\n",
    "    exporter.export_photos_for_game(game)"
   ]
  },
  {
   "cell_type": "markdown",
   "metadata": {},
   "source": [
    "At this point, review the photos in the \"preview\" directories and remove any that shouldn't be uploaded. Removing it from the preview directory is sufficient."
   ]
  },
  {
   "cell_type": "code",
   "execution_count": 17,
   "metadata": {},
   "outputs": [],
   "source": [
    "to_thumbnail = []\n",
    "for game in games:\n",
    "    to_thumbnail.extend(exporter.get_photos_to_thumbnail(game))"
   ]
  },
  {
   "cell_type": "code",
   "execution_count": 20,
   "metadata": {},
   "outputs": [],
   "source": [
    "thumbnailer.thumbnail_many(to_thumbnail)"
   ]
  },
  {
   "cell_type": "code",
   "execution_count": 21,
   "metadata": {},
   "outputs": [
    {
     "ename": "AttributeError",
     "evalue": "'PhotoExporter' object has no attribute 'get_photos_to_upload'",
     "output_type": "error",
     "traceback": [
      "\u001b[0;31m---------------------------------------------------------------------------\u001b[0m",
      "\u001b[0;31mAttributeError\u001b[0m                            Traceback (most recent call last)",
      "Cell \u001b[0;32mIn[21], line 3\u001b[0m\n\u001b[1;32m      1\u001b[0m to_upload \u001b[38;5;241m=\u001b[39m []\n\u001b[1;32m      2\u001b[0m \u001b[38;5;28;01mfor\u001b[39;00m game \u001b[38;5;129;01min\u001b[39;00m games:\n\u001b[0;32m----> 3\u001b[0m     to_upload\u001b[38;5;241m.\u001b[39mextend(\u001b[43mexporter\u001b[49m\u001b[38;5;241;43m.\u001b[39;49m\u001b[43mget_photos_to_upload\u001b[49m(game))\n",
      "\u001b[0;31mAttributeError\u001b[0m: 'PhotoExporter' object has no attribute 'get_photos_to_upload'"
     ]
    }
   ],
   "source": [
    "to_upload: list[PhotoInfo] = []\n",
    "for game in games:\n",
    "    to_upload.extend(exporter.get_photos_to_upload(game))"
   ]
  },
  {
   "cell_type": "code",
   "execution_count": null,
   "metadata": {},
   "outputs": [],
   "source": [
    "# TODO:\n",
    "# - implement get_photos_to_upload\n",
    "# - implement upload/insert process\n",
    "#    - check if file is in bucket\n",
    "#       - if not, upload it\n",
    "#    - check if resource is in db\n",
    "#       - if not, insert it\n",
    "#    - insert any files into db that aren't already there\n",
    "test_connector.import_resources(1, to_upload)"
   ]
  }
 ],
 "metadata": {
  "kernelspec": {
   "display_name": ".venv",
   "language": "python",
   "name": "python3"
  },
  "language_info": {
   "codemirror_mode": {
    "name": "ipython",
    "version": 3
   },
   "file_extension": ".py",
   "mimetype": "text/x-python",
   "name": "python",
   "nbconvert_exporter": "python",
   "pygments_lexer": "ipython3",
   "version": "3.12.4"
  }
 },
 "nbformat": 4,
 "nbformat_minor": 2
}
