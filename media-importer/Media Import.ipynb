{
 "cells": [
  {
   "cell_type": "code",
   "execution_count": 1,
   "metadata": {},
   "outputs": [],
   "source": [
    "from datetime import date\n",
    "from tqdm import tqdm\n",
    "import shutil\n",
    "import os\n",
    "\n",
    "from thumbnails import ThumbnailDef, Thumbnailer, ThumbnailParams\n",
    "from db_connect import DbConnector\n",
    "from photo_export import PhotoExporter\n",
    "from path_management import PathManager\n",
    "from bucket_connect import BucketConnector"
   ]
  },
  {
   "cell_type": "code",
   "execution_count": 2,
   "metadata": {},
   "outputs": [],
   "source": [
    "from_date = date(2016, 10, 1)\n",
    "to_date = date(2016, 11, 1)"
   ]
  },
  {
   "cell_type": "code",
   "execution_count": 3,
   "metadata": {},
   "outputs": [],
   "source": [
    "small = ThumbnailDef(120, 'small')\n",
    "medium = ThumbnailDef(400, 'medium')\n",
    "large = ThumbnailDef(1600, 'large')\n",
    "\n",
    "sizes = [small, large, medium] \n",
    "thumbnailer = Thumbnailer(sizes)"
   ]
  },
  {
   "cell_type": "code",
   "execution_count": 4,
   "metadata": {},
   "outputs": [],
   "source": [
    "paths = PathManager(thumbnailer.name_modifiers)\n",
    "test_connector = DbConnector('./test.postgres_config', paths)\n",
    "prod_connector = DbConnector('./prod.postgres_config', paths)\n",
    "exporter = PhotoExporter(paths)\n",
    "\n",
    "games = prod_connector.get_games(from_date, to_date)"
   ]
  },
  {
   "cell_type": "code",
   "execution_count": 6,
   "metadata": {},
   "outputs": [
    {
     "name": "stderr",
     "output_type": "stream",
     "text": [
      "  0%|          | 0/6 [00:00<?, ?it/s]"
     ]
    },
    {
     "name": "stdout",
     "output_type": "stream",
     "text": [
      "skipping missing photo ADAC107C-2F8D-4D0F-8E2D-945A6745D210.JPG\n",
      "skipping missing photo FD32F282-9878-4D9A-BB21-A8AD7DD0758D.JPG\n",
      "skipping missing photo 7C38ED79-D0CB-4F79-A709-6379C862FCB4.JPG\n"
     ]
    },
    {
     "name": "stderr",
     "output_type": "stream",
     "text": [
      " 17%|█▋        | 1/6 [00:01<00:05,  1.14s/it]"
     ]
    },
    {
     "name": "stdout",
     "output_type": "stream",
     "text": [
      "skipping missing photo 54980F5A-D78A-4A9D-897C-89F1A9EEC54A.JPG\n"
     ]
    },
    {
     "name": "stderr",
     "output_type": "stream",
     "text": [
      " 33%|███▎      | 2/6 [00:01<00:03,  1.13it/s]"
     ]
    },
    {
     "name": "stdout",
     "output_type": "stream",
     "text": [
      "skipping missing photo C38530AE-DC43-442F-BDAE-F33543B7AC6E.JPG\n",
      "skipping missing photo 013AE4E4-1B04-460C-88F0-50D2E51781F8.JPG\n"
     ]
    },
    {
     "name": "stderr",
     "output_type": "stream",
     "text": [
      " 50%|█████     | 3/6 [00:02<00:01,  1.65it/s]"
     ]
    },
    {
     "name": "stdout",
     "output_type": "stream",
     "text": [
      "skipping missing photo 6245705A-6B27-478D-BDC9-C621F8BF7A0B.JPG\n",
      "skipping missing photo 13CF1A53-1129-4B40-87B6-F1071AA46A78.JPG\n",
      "skipping missing photo 1ABE2438-2389-43AE-8620-FD09D8188AD4.JPG\n",
      "skipping missing photo D5F58E5E-33B4-4C26-BB48-9B45704F87FA.JPG\n",
      "skipping missing photo EF185286-490E-481B-9225-1D65D59DD09C.JPG\n",
      "skipping missing photo 72E9D578-FE7B-4E52-B9B4-3C75B40E388B.JPG\n",
      "skipping missing photo F86B9D51-8165-4C52-B907-07D2B9318C49.JPG\n",
      "skipping missing photo 939431E9-0EBD-47EB-9231-1D3D86088AEB.JPG\n",
      "skipping missing photo 5F592068-C1D2-4ACA-B734-B58141CC9632.JPG\n",
      "skipping missing photo 7047E7FF-36C5-423B-9832-C85A8B3A0A6D.JPG\n",
      "skipping missing photo 5C659453-A1F6-435E-BB56-63B5AB5A5AB8.JPG\n",
      "skipping missing photo 398D1850-08FF-432A-945D-05EB1FABBBAF.JPG\n",
      "skipping missing photo 410E704F-B173-400F-8652-E006BB62C0A7.JPG\n",
      "skipping missing photo F88FED50-C6C6-4A06-B180-9FD7E64F93EA.JPG\n",
      "skipping missing photo 6F0FE7AE-C6F8-4130-B018-0C1DEEB5A8ED.JPG\n",
      "skipping missing photo C15DF907-CB47-4DE1-8F5B-1B2813C9FBF7.JPG\n",
      "skipping missing photo 8A638D1C-78B7-4ED5-A225-76E23AA9C40C.JPG\n",
      "skipping missing photo 0BA99E7F-3651-45FA-80EE-7B369DC4A314.JPG\n",
      "skipping missing photo E7415EBF-D54C-46B1-9F36-D3DFEF81D499.JPG\n",
      "skipping missing photo 780646E6-41E7-4037-8E0E-409BC8C425A3.JPG\n",
      "skipping missing photo DBA2F645-9880-4E39-BC89-291C31272659.JPG\n",
      "skipping missing photo 06B5BBEB-1B91-4B26-A2C0-A1309AD707E3.JPG\n",
      "skipping missing photo C5BD74E4-444A-4406-9617-32983252E94A.JPG\n",
      "skipping missing photo 7B7F42A4-A36F-42C6-82F5-4BA51BCEC66B.JPG\n",
      "skipping missing photo EFEBE421-60D3-40B8-B5F5-2A469B196B41.JPG\n",
      "skipping missing photo 887367AF-9607-4F5C-9041-FE01EF23CFAE.JPG\n",
      "skipping missing photo 90744AA3-7AA7-464C-925B-C12FD709F5F0.JPG\n",
      "skipping missing photo 5384406A-784A-4C88-956E-5A1E368812CF.JPG\n",
      "skipping missing photo 47C7B333-5AF9-4846-B8B4-860A5EE367B0.JPG\n",
      "skipping missing photo 158180AD-1F95-4AF3-9A18-698E31119FEA.JPG\n",
      "skipping missing photo C2AE32AA-34AF-43F4-AF41-50A577D3C4A9.JPG\n",
      "skipping missing photo 244507DE-A6E2-4E5E-972B-CBB46DADA0E4.JPG\n"
     ]
    },
    {
     "name": "stderr",
     "output_type": "stream",
     "text": [
      " 67%|██████▋   | 4/6 [00:03<00:01,  1.12it/s]"
     ]
    },
    {
     "name": "stdout",
     "output_type": "stream",
     "text": [
      "skipping missing photo 3E8A8491-817B-4E16-B279-C7600BEE221F.JPG\n",
      "skipping missing photo 5F759762-62FA-48C3-A603-46312671E558.JPG\n"
     ]
    },
    {
     "name": "stderr",
     "output_type": "stream",
     "text": [
      " 83%|████████▎ | 5/6 [00:04<00:00,  1.15it/s]"
     ]
    },
    {
     "name": "stdout",
     "output_type": "stream",
     "text": [
      "skipping missing photo 02DE7AA0-1476-4453-A439-0B3097FAE67D.JPG\n"
     ]
    },
    {
     "name": "stderr",
     "output_type": "stream",
     "text": [
      "100%|██████████| 6/6 [00:04<00:00,  1.26it/s]\n"
     ]
    }
   ],
   "source": [
    "for game in tqdm(games):\n",
    "    exporter.export_photos_for_game(game)"
   ]
  },
  {
   "cell_type": "markdown",
   "metadata": {},
   "source": [
    "At this point, review the photos in the \"preview\" directories and remove any that shouldn't be uploaded. Removing it from the preview directory is sufficient."
   ]
  },
  {
   "cell_type": "code",
   "execution_count": 7,
   "metadata": {},
   "outputs": [],
   "source": [
    "to_thumbnail: list[ThumbnailParams] = []\n",
    "for game in games:\n",
    "    to_thumbnail.extend(exporter.get_photos_to_thumbnail(game))"
   ]
  },
  {
   "cell_type": "code",
   "execution_count": 8,
   "metadata": {},
   "outputs": [],
   "source": [
    "thumbnailer.thumbnail_many(to_thumbnail)"
   ]
  },
  {
   "cell_type": "code",
   "execution_count": 9,
   "metadata": {},
   "outputs": [],
   "source": [
    "bucket = BucketConnector('./prod.bucket_config', paths)"
   ]
  },
  {
   "cell_type": "code",
   "execution_count": 10,
   "metadata": {},
   "outputs": [
    {
     "name": "stdout",
     "output_type": "stream",
     "text": [
      "Uploading/Validating 35 photos for 10/15/16 NLCS Game 1: Los Angeles Dodgers at Chicago Cubs\n",
      "Uploading/Validating 22 photos for 10/7/16 NLDS Game 1: San Francisco Giants at Chicago Cubs\n",
      "Uploading/Validating 8 photos for 10/16/16 NLCS Game 2: Los Angeles Dodgers at Chicago Cubs\n",
      "Uploading/Validating 41 photos for 10/28/16 WS Game 3: Cleveland Indians at Chicago Cubs\n",
      "Uploading/Validating 22 photos for 10/1/16 Toronto Blue Jays at Boston Red Sox\n",
      "Uploading/Validating 13 photos for 10/8/16 NLDS Game 2: San Francisco Giants at Chicago Cubs\n"
     ]
    }
   ],
   "source": [
    "for game in games:\n",
    "    to_upload = exporter.get_photos_to_upload(game)\n",
    "    print(f'Uploading/Validating {len(to_upload)} photos for {game.Name}')\n",
    "    for photo in to_upload:\n",
    "        root_path = paths.temp_dir(game, photo)\n",
    "        bucket.upload_all_files(root_path, photo)\n",
    "    prod_connector.import_resources(game, to_upload)"
   ]
  },
  {
   "cell_type": "code",
   "execution_count": 11,
   "metadata": {},
   "outputs": [],
   "source": [
    "for game in games:\n",
    "    root_path = paths.base_dir(game)\n",
    "    if os.path.exists(root_path):\n",
    "        shutil.rmtree(root_path)"
   ]
  },
  {
   "cell_type": "code",
   "execution_count": null,
   "metadata": {},
   "outputs": [],
   "source": []
  }
 ],
 "metadata": {
  "kernelspec": {
   "display_name": ".venv",
   "language": "python",
   "name": "python3"
  },
  "language_info": {
   "codemirror_mode": {
    "name": "ipython",
    "version": 3
   },
   "file_extension": ".py",
   "mimetype": "text/x-python",
   "name": "python",
   "nbconvert_exporter": "python",
   "pygments_lexer": "ipython3",
   "version": "3.12.4"
  }
 },
 "nbformat": 4,
 "nbformat_minor": 2
}
