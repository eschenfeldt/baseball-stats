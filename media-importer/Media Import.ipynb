{
 "cells": [
  {
   "cell_type": "code",
   "execution_count": 1,
   "metadata": {},
   "outputs": [],
   "source": [
    "import osxphotos\n",
    "import psycopg\n",
    "from psycopg.rows import namedtuple_row\n",
    "import json\n",
    "from dataclasses import dataclass\n",
    "from osxphotos import PhotoInfo, PhotosDB\n",
    "from typing import List\n",
    "from datetime import timedelta\n",
    "import os\n",
    "from PIL import Image\n",
    "from pillow_heif import register_heif_opener\n",
    "import subprocess\n",
    "from multiprocess import Pool\n",
    "\n",
    "register_heif_opener()"
   ]
  },
  {
   "cell_type": "code",
   "execution_count": 35,
   "metadata": {},
   "outputs": [],
   "source": [
    "@dataclass\n",
    "class ThumbnailDef:\n",
    "    max_size: int\n",
    "    name_modifier: str\n",
    "\n",
    "small = ThumbnailDef(120, 'small')\n",
    "medium = ThumbnailDef(400, 'medium')\n",
    "large = ThumbnailDef(1600, 'large')\n",
    "\n",
    "sizes = [large, medium, small] # will be computed sequentially, so order from large to small\n",
    "name_modifiers = [size.name_modifier for size in sizes]"
   ]
  },
  {
   "cell_type": "code",
   "execution_count": 3,
   "metadata": {},
   "outputs": [
    {
     "data": {
      "text/plain": [
       "[ThumbnailDef(max_size=1600, name_modifier='large'),\n",
       " ThumbnailDef(max_size=400, name_modifier='medium'),\n",
       " ThumbnailDef(max_size=120, name_modifier='small')]"
      ]
     },
     "execution_count": 3,
     "metadata": {},
     "output_type": "execute_result"
    }
   ],
   "source": [
    "sizes"
   ]
  },
  {
   "cell_type": "code",
   "execution_count": 4,
   "metadata": {},
   "outputs": [],
   "source": [
    "@dataclass\n",
    "class PostgesConfig:\n",
    "    hostname: str\n",
    "    database: str\n",
    "    username: str\n",
    "    password: str\n",
    "\n",
    "    def connection_info(self) -> str:\n",
    "        return f'postgresql://{self.username}:{self.password}@{self.hostname}/{self.database}';"
   ]
  },
  {
   "cell_type": "code",
   "execution_count": 21,
   "metadata": {},
   "outputs": [],
   "source": [
    "with open('./test.postgres_config', 'r') as config_file:\n",
    "    config_dict = json.loads(config_file.read())\n",
    "config = PostgesConfig(**config_dict)"
   ]
  },
  {
   "cell_type": "code",
   "execution_count": 6,
   "metadata": {},
   "outputs": [],
   "source": [
    "with psycopg.connect(config.connection_info()) as connection:\n",
    "    with connection.cursor(row_factory=namedtuple_row) as cursor:\n",
    "        games_q = cursor.execute('SELECT \"Id\", \"Name\", \"Date\", \"ScheduledTime\", \"StartTime\", \"EndTime\" FROM \"Games\"')\n",
    "        games = games_q.fetchall()"
   ]
  },
  {
   "cell_type": "code",
   "execution_count": 7,
   "metadata": {},
   "outputs": [
    {
     "data": {
      "text/plain": [
       "Row(Id=638, Name='4/6/24 Los Angeles Dodgers at Chicago Cubs', Date=datetime.date(2024, 4, 6), ScheduledTime=datetime.datetime(2024, 4, 6, 20, 5, 8, tzinfo=zoneinfo.ZoneInfo(key='Etc/UTC')), StartTime=datetime.datetime(2024, 4, 6, 20, 5, 27, tzinfo=zoneinfo.ZoneInfo(key='Etc/UTC')), EndTime=datetime.datetime(2024, 4, 6, 22, 50, 39, tzinfo=zoneinfo.ZoneInfo(key='Etc/UTC')))"
      ]
     },
     "execution_count": 7,
     "metadata": {},
     "output_type": "execute_result"
    }
   ],
   "source": [
    "games[0]"
   ]
  },
  {
   "cell_type": "code",
   "execution_count": 8,
   "metadata": {},
   "outputs": [],
   "source": [
    "\n",
    "def get_photos_for_game(photosdb: PhotosDB, game: psycopg.rows.Row) -> List[PhotoInfo]:\n",
    "    start_time = game.StartTime + timedelta(hours=-3)\n",
    "    end_time = game.EndTime + timedelta(hours=2)\n",
    "    return photosdb.photos(from_date=start_time, to_date=end_time)"
   ]
  },
  {
   "cell_type": "code",
   "execution_count": 9,
   "metadata": {},
   "outputs": [],
   "source": [
    "photosdb = osxphotos.PhotosDB()"
   ]
  },
  {
   "cell_type": "code",
   "execution_count": 10,
   "metadata": {},
   "outputs": [],
   "source": [
    "test = get_photos_for_game(photosdb, games[0])"
   ]
  },
  {
   "cell_type": "code",
   "execution_count": 11,
   "metadata": {},
   "outputs": [
    {
     "data": {
      "text/plain": [
       "40"
      ]
     },
     "execution_count": 11,
     "metadata": {},
     "output_type": "execute_result"
    }
   ],
   "source": [
    "len(test)"
   ]
  },
  {
   "cell_type": "code",
   "execution_count": 12,
   "metadata": {},
   "outputs": [
    {
     "data": {
      "text/plain": [
       "'Wrigley Field, Chicago, Chicagoland, United States'"
      ]
     },
     "execution_count": 12,
     "metadata": {},
     "output_type": "execute_result"
    }
   ],
   "source": [
    "test[0].place.name"
   ]
  },
  {
   "cell_type": "code",
   "execution_count": 13,
   "metadata": {},
   "outputs": [],
   "source": [
    "def temp_dir(photo: PhotoInfo) -> str:\n",
    "    out_dir = f'./exported/{photo.date:%Y-%m-%d}/{photo.uuid}'\n",
    "    if not os.path.exists(out_dir):\n",
    "        os.makedirs(out_dir)\n",
    "    return out_dir"
   ]
  },
  {
   "cell_type": "code",
   "execution_count": 14,
   "metadata": {},
   "outputs": [],
   "source": [
    "def thumbnail_photo(path: str):\n",
    "    try:\n",
    "        dir = os.path.dirname(path)\n",
    "        filename, ext = os.path.splitext(os.path.basename(path))\n",
    "        image = Image.open(path)\n",
    "        for size in sizes:\n",
    "            image.thumbnail((size.max_size, size.max_size))\n",
    "            new_name = os.path.join(dir, f\"{filename}_{size.name_modifier}{ext}\")\n",
    "            image.save(new_name)\n",
    "    except Exception as e:\n",
    "        return e\n",
    "    "
   ]
  },
  {
   "cell_type": "code",
   "execution_count": 15,
   "metadata": {},
   "outputs": [],
   "source": [
    "def thumbnail_video(path: str):\n",
    "    try:\n",
    "        dir = os.path.dirname(path)\n",
    "        filename, _ = os.path.splitext(os.path.basename(path))\n",
    "        ext = '.jpeg'\n",
    "        new_name = os.path.join(dir, f\"{filename}{ext}\")\n",
    "        subprocess.call(['ffmpeg', '-i', path, '-ss', '00:00:00.000', '-vframes', '1', new_name, '-y', '-hide_banner', '-loglevel', 'error'])\n",
    "        image = Image.open(new_name)\n",
    "        for size in sizes:\n",
    "            image.thumbnail((size.max_size, size.max_size))\n",
    "            new_name = os.path.join(dir, f\"{filename}_{size.name_modifier}{ext}\")\n",
    "            image.save(new_name)\n",
    "    except Exception as e:\n",
    "        return e"
   ]
  },
  {
   "cell_type": "code",
   "execution_count": 16,
   "metadata": {},
   "outputs": [],
   "source": [
    "def export(photo: PhotoInfo):\n",
    "    out_dir = temp_dir(photo)\n",
    "    paths = photo.export(out_dir, live_photo=True, export_as_hardlink=True, overwrite=True)\n",
    "    return paths[0]\n",
    "\n",
    "\n",
    "def thumbnail(params: tuple[str, bool]):\n",
    "    path, ismovie = params\n",
    "    if ismovie:\n",
    "        return thumbnail_video(path)\n",
    "    else:\n",
    "        return thumbnail_photo(path)"
   ]
  },
  {
   "cell_type": "code",
   "execution_count": 17,
   "metadata": {},
   "outputs": [],
   "source": [
    "movies = [p for p in test if p.ismovie]"
   ]
  },
  {
   "cell_type": "code",
   "execution_count": 18,
   "metadata": {},
   "outputs": [],
   "source": [
    "def export_many(photos: list[PhotoInfo]):\n",
    "    to_thumbnail = []\n",
    "    for photo in photos:\n",
    "        photo_path = export(photo)\n",
    "        to_thumbnail.append((photo_path, photo.ismovie))\n",
    "    return to_thumbnail\n",
    "\n",
    "\n",
    "def thumbnail_many(params: list[tuple[str, bool]]):\n",
    "    with Pool(12) as pool:\n",
    "        return pool.map(thumbnail, params)"
   ]
  },
  {
   "cell_type": "code",
   "execution_count": 19,
   "metadata": {},
   "outputs": [],
   "source": [
    "results = export_many(test)"
   ]
  },
  {
   "cell_type": "code",
   "execution_count": 20,
   "metadata": {},
   "outputs": [
    {
     "data": {
      "text/plain": [
       "[None,\n",
       " None,\n",
       " None,\n",
       " None,\n",
       " None,\n",
       " None,\n",
       " None,\n",
       " None,\n",
       " None,\n",
       " None,\n",
       " None,\n",
       " None,\n",
       " None,\n",
       " None,\n",
       " None,\n",
       " None,\n",
       " None,\n",
       " None,\n",
       " None,\n",
       " None,\n",
       " None,\n",
       " None,\n",
       " None,\n",
       " None,\n",
       " None,\n",
       " None,\n",
       " None,\n",
       " None,\n",
       " None,\n",
       " None,\n",
       " None,\n",
       " None,\n",
       " None,\n",
       " None,\n",
       " None,\n",
       " None,\n",
       " None,\n",
       " None,\n",
       " None,\n",
       " None]"
      ]
     },
     "execution_count": 20,
     "metadata": {},
     "output_type": "execute_result"
    }
   ],
   "source": [
    "thumbnail_many(results)"
   ]
  },
  {
   "cell_type": "code",
   "execution_count": 42,
   "metadata": {},
   "outputs": [],
   "source": [
    "def resource_type(photo: PhotoInfo) -> int:\n",
    "    if photo.ismovie:\n",
    "        return 4\n",
    "    elif photo.live_photo:\n",
    "        return 3\n",
    "    elif photo.isphoto:\n",
    "        return 2\n",
    "    else:\n",
    "        return 0\n",
    "    \n",
    "def get_params(gameId: int, photo: PhotoInfo) -> tuple:\n",
    "    return (photo.uuid, photo.date, photo.original_filename, gameId, 'MediaResource', resource_type(photo), photo.favorite)\n",
    "\n",
    "def get_name_modifier(name: str) -> str:\n",
    "    split_name = name.split('_')\n",
    "    if split_name[-1] in name_modifiers:\n",
    "        return split_name[-1]\n",
    "    else:\n",
    "        return None\n",
    "\n",
    "def get_file_purpose(name_modifier: str, ext: str, photo: PhotoInfo) -> tuple[int, str]:\n",
    "    if photo.ismovie and ext == '.jpeg':\n",
    "        return 2 # Thumbnail\n",
    "    elif name_modifier is not None:\n",
    "        return 2 # Thumbnail\n",
    "    else:\n",
    "        return 1 # Original\n",
    "\n",
    "def get_file_params(resourceId: int, photo: PhotoInfo) -> list[tuple]:\n",
    "    out_dir = temp_dir(photo)\n",
    "    results = []\n",
    "    for file in os.listdir(out_dir):\n",
    "        name, ext = os.path.splitext(os.path.basename(file))\n",
    "        name_modifier = get_name_modifier(name)\n",
    "        file_purpose = get_file_purpose(name_modifier, ext, photo)\n",
    "        \n",
    "        results.append((resourceId, file_purpose, name_modifier, ext))\n",
    "    return results\n",
    "    \n",
    "\n",
    "def import_files(resourceId: int, photo: PhotoInfo, cursor):\n",
    "    statement = \"\"\"\n",
    "        INSERT INTO \"RemoteFile\"(\"ResourceId\", \n",
    "                                    \"Purpose\", \n",
    "                                    \"NameModifier\", \n",
    "                                    \"Extension\") \n",
    "        VALUES (%s, %s, %s, %s)\n",
    "    \"\"\"\n",
    "    for params in get_file_params(resourceId, photo):\n",
    "        cursor.execute(statement, params)\n",
    "\n",
    "def import_resources(gameId: int, photos: list[PhotoInfo]):\n",
    "    statement = \"\"\"\n",
    "        INSERT INTO \"RemoteResource\"(\"AssetIdentifier\", \n",
    "                                    \"DateTime\", \n",
    "                                    \"OriginalFileName\", \n",
    "                                    \"GameId\", \n",
    "                                    \"Discriminator\", \n",
    "                                    \"ResourceType\", \n",
    "                                    \"Favorite\") \n",
    "        VALUES (%s, %s, %s, %s, %s, %s, %s)\n",
    "        RETURNING \"Id\"\n",
    "    \"\"\"\n",
    "    with psycopg.connect(config.connection_info()) as connection:\n",
    "        with connection.cursor() as cursor:\n",
    "            for photo in photos:\n",
    "                params = get_params(gameId, photo)\n",
    "                cursor.execute(statement, params)\n",
    "                id = cursor.fetchone()[0]\n",
    "                import_files(id, photo, cursor)\n",
    "        \n",
    "        connection.commit()"
   ]
  },
  {
   "cell_type": "code",
   "execution_count": 40,
   "metadata": {},
   "outputs": [
    {
     "data": {
      "text/plain": [
       "[(5, 2, None, '.jpeg'),\n",
       " (5, 2, 'medium', '.jpeg'),\n",
       " (5, 2, 'large', '.jpeg'),\n",
       " (5, 1, None, '.MOV'),\n",
       " (5, 2, 'small', '.jpeg')]"
      ]
     },
     "execution_count": 40,
     "metadata": {},
     "output_type": "execute_result"
    }
   ],
   "source": [
    "get_file_params(5, movies[1])"
   ]
  },
  {
   "cell_type": "code",
   "execution_count": 43,
   "metadata": {},
   "outputs": [],
   "source": [
    "results = import_resources(5, test)"
   ]
  },
  {
   "cell_type": "code",
   "execution_count": null,
   "metadata": {},
   "outputs": [],
   "source": []
  }
 ],
 "metadata": {
  "kernelspec": {
   "display_name": ".venv",
   "language": "python",
   "name": "python3"
  },
  "language_info": {
   "codemirror_mode": {
    "name": "ipython",
    "version": 3
   },
   "file_extension": ".py",
   "mimetype": "text/x-python",
   "name": "python",
   "nbconvert_exporter": "python",
   "pygments_lexer": "ipython3",
   "version": "3.12.3"
  }
 },
 "nbformat": 4,
 "nbformat_minor": 2
}
